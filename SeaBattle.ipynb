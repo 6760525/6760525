{
  "nbformat": 4,
  "nbformat_minor": 0,
  "metadata": {
    "colab": {
      "name": "Copy of SeaBattle.ipynb",
      "provenance": [],
      "collapsed_sections": [],
      "authorship_tag": "ABX9TyM1tEiV7x2SYX8OH6rVrUsr",
      "include_colab_link": true
    },
    "kernelspec": {
      "name": "python3",
      "display_name": "Python 3"
    },
    "language_info": {
      "name": "python"
    }
  },
  "cells": [
    {
      "cell_type": "markdown",
      "metadata": {
        "id": "view-in-github",
        "colab_type": "text"
      },
      "source": [
        "<a href=\"https://colab.research.google.com/github/6760525/6760525/blob/main/SeaBattle.ipynb\" target=\"_parent\"><img src=\"https://colab.research.google.com/assets/colab-badge.svg\" alt=\"Open In Colab\"/></a>"
      ]
    },
    {
      "cell_type": "markdown",
      "metadata": {
        "id": "tpyl5pu1cqiS"
      },
      "source": [
        "# Imports and Constants"
      ]
    },
    {
      "cell_type": "code",
      "metadata": {
        "id": "fQYpjgxjiT6g"
      },
      "source": [
        "#Imports\n",
        "from random import randint\n",
        "\n",
        "#Constants\n",
        "\n",
        "# The game's square field size\n",
        "FIELD_SIZE = 6\n",
        "#FIELD_SIZE = 10\n",
        "\n",
        "# The game's fleet structure: key - number of decks, value - number of ships\n",
        "FLEET = {3: 1, 2: 2, 1: 4} \n",
        "#FLEET = {4:1, 3: 2, 2: 3, 1: 4}\n",
        "\n",
        "EMPTY_CHAR = chr(0x25CC)\n",
        "SHIP_CHAR = chr(0x25A3)\n",
        "CONTOUR_CHAR = chr(0x25AB) \n",
        "DAMAGE_CHAR = '\\033[95m' + chr(0x25CF) + '\\033[0m'\n",
        "DESTROY_CHAR = '\\033[91m' + chr(0x25A3) + '\\033[0m'\n",
        "MISS_CHAR = '\\033[91m' + chr(0x29B8) + '\\033[0m'\n",
        "\n",
        "# empty circle 0x25CB\n",
        "\n"
      ],
      "execution_count": null,
      "outputs": []
    },
    {
      "cell_type": "markdown",
      "metadata": {
        "id": "NZ53uZXEcebA"
      },
      "source": [
        "# Internal logic of the game"
      ]
    },
    {
      "cell_type": "markdown",
      "metadata": {
        "id": "p__Amm2Rcz7k"
      },
      "source": [
        "## Classes of Exceptions:"
      ]
    },
    {
      "cell_type": "code",
      "metadata": {
        "id": "ob23KeGnccBC"
      },
      "source": [
        "# Classes of Exceptions:\n",
        "class BoardOutException(BaseException):\n",
        "  pass\n",
        "\n",
        "class SpotBusyException(BaseException):\n",
        "  pass\n",
        "\n",
        "class OutOfSpaceException(BaseException):\n",
        "  pass\n"
      ],
      "execution_count": null,
      "outputs": []
    },
    {
      "cell_type": "markdown",
      "metadata": {
        "id": "--zW5OgRc75x"
      },
      "source": [
        "## Dots and Ships\n"
      ]
    },
    {
      "cell_type": "markdown",
      "metadata": {
        "id": "oihpGQcCdHBI"
      },
      "source": [
        "### Dot is a class for coordinates on the game's field"
      ]
    },
    {
      "cell_type": "code",
      "metadata": {
        "id": "to85l8GKdGwK"
      },
      "source": [
        "# Dot is a class for coordinates on the game's field\n",
        "class Dot:\n",
        "  def __init__(self, x, y):\n",
        "    self.x = x\n",
        "    self.y = y\n",
        "\n",
        "  def get_x(self):\n",
        "    return self.x\n",
        "\n",
        "  def get_y(self):\n",
        "    return self.y\n",
        "\n",
        "  # checks if a dot is on the board\n",
        "  def __eq__(self, other):\n",
        "    return self.x == other.x and self.y == other.y\n",
        "\n",
        "  def __add__(self, other):\n",
        "    return Dot(self.x + other.x, self.y + other.y)\n",
        "\n",
        "  def __str__(self):\n",
        "    return f'Dot: {self.x, self.y}'\n"
      ],
      "execution_count": null,
      "outputs": []
    },
    {
      "cell_type": "markdown",
      "metadata": {
        "id": "PfmIVQMrdR_r"
      },
      "source": [
        "### Ship is a class for a ship"
      ]
    },
    {
      "cell_type": "code",
      "metadata": {
        "id": "Kp4zVHfFdRte"
      },
      "source": [
        "# Ships\n",
        "class Ship:\n",
        "  def __init__(self, length, dot, dir=0):\n",
        "    self.length = length\n",
        "    self.dot = dot\n",
        "    self.dir = dir\n",
        "    self.lifes = length\n",
        "\n",
        "  def dots(self):\n",
        "    # Returns list of all ship's dots\n",
        "    dots_list = []\n",
        "    x = self.dot.get_x()\n",
        "    y = self.dot.get_y()\n",
        "    dx, dy = (0, 1) if self.dir == 1 else (1, 0)\n",
        "    for i in range(self.length):\n",
        "      dots_list.append(Dot(x + i * dx, y + i * dy))\n",
        "    return(dots_list)\n"
      ],
      "execution_count": null,
      "outputs": []
    },
    {
      "cell_type": "markdown",
      "metadata": {
        "id": "Ihrksk9adj4j"
      },
      "source": [
        "## Board class\n"
      ]
    },
    {
      "cell_type": "code",
      "metadata": {
        "id": "6-Q0q9mVdjd3"
      },
      "source": [
        "class Board:\n",
        "  def __init__(self):\n",
        "    self.field = [[EMPTY_CHAR] * FIELD_SIZE for _ in range(FIELD_SIZE) ]\n",
        "    self.adots = [] # list of dots available on the Board\n",
        "    self.ships = [] # list of ships on the Board\n",
        "    self.lifes = sum(FLEET.values()) # total number of dots occupied by alife ships\n",
        "\n",
        "    for i in range(FIELD_SIZE):\n",
        "      for j in range(FIELD_SIZE):\n",
        "        self.adots.append(Dot(i,j))\n",
        "\n",
        "  def add_ship(self, ship):\n",
        "    # adds a Ship on the Board\n",
        "    if self.adots == []:\n",
        "      raise OutOfSpaceException\n",
        "\n",
        "    sd = ship.dots()\n",
        "    if all(d in self.adots for d in sd): # if all ship's dots are available\n",
        "      self.adots = [d for d in self.adots if (d not in sd)] # reduce the number of available dots\n",
        "      for d in sd: self.field[d.x][d.y] = SHIP_CHAR # put a ship char on the field\n",
        "      self.ships.append(ship) # add the Ship on the Board\n",
        "      self.contour(ship, True) # add contour of the Ship on the Board\n",
        "    else:\n",
        "      raise BoardOutException\n",
        "\n",
        "  def contour(self, ship, full):\n",
        "    # adds a contour (full or particular) of the ship on the Board's field\n",
        "    for d in ship.dots():\n",
        "      for i in (-1, 0, 1):\n",
        "        for j in (-1, 0, 1):\n",
        "          cx = d.get_x() + i\n",
        "          cy = d.get_y() + j\n",
        "          cd = Dot(cx, cy)\n",
        "          if cd in self.adots:\n",
        "            if full or abs(i+j) != 1:\n",
        "              self.adots.remove(cd)\n",
        "              if self.field[cx][cy] == EMPTY_CHAR:\n",
        "                self.field[cx][cy] = CONTOUR_CHAR \n",
        "\n",
        "  def show_board(self, hid=False):\n",
        "    if hid: print('\\033[90m', end='')\n",
        "    print('-' * (4 * FIELD_SIZE + 4))\n",
        "    print('  ', end='')\n",
        "    for i in range(1, len(self.field[0])+1): print(f' |{i:2}', end='')\n",
        "    print(' |')\n",
        "    print('-' * (4 * FIELD_SIZE + 4))\n",
        "    for i in range(len(self.field)):\n",
        "      print(f'{i+1:2} | ', end='')\n",
        "      for j in range(len(self.field[i])):\n",
        "        print(f'{self.field[i][j]} | ', end='')\n",
        "      print()\n",
        "    print('-' * (4 * FIELD_SIZE + 4))\n",
        "    print('\\033[0m', end='')\n",
        "\n",
        "  def show_boards(self, oppboard):\n",
        "    print('\\033[2J', end='') # clear the screen here\n",
        "    print('-' * (4 * FIELD_SIZE + 4), ' ' * 10,'-' * (4 * FIELD_SIZE + 4))\n",
        "    print('  ', end='')\n",
        "    for i in range(1, len(self.field[0])+1): print(f' |{i:2}', end='')\n",
        "    print(' |', end='')\n",
        "    print(' ' * 14, end='')\n",
        "    for i in range(1, len(oppboard.field[0])+1): print(f' |{i:2}', end='')\n",
        "    print(' |')\n",
        "    print('-' * (4 * FIELD_SIZE + 4), ' ' * 10,'-' * (4 * FIELD_SIZE + 4))\n",
        "\n",
        "    for i in range(len(self.field)):\n",
        "      print(f'{i+1:2} | ', end='')\n",
        "      for j in range(len(self.field[i])):\n",
        "        print(f'{self.field[i][j]} | ', end='')\n",
        "      print(' ' * 10, f'{i+1:2} | ', end='')\n",
        "      for j in range(len(oppboard.field[i])):\n",
        "        print(f'{oppboard.field[i][j]} | ', end='')\n",
        "      print()\n",
        "\n",
        "    print('-' * (4 * FIELD_SIZE + 4), ' ' * 10,'-' * (4 * FIELD_SIZE + 4))\n",
        "    print(f'{len(self.ships)} ships afloat', ' ' * 24, f'{oppboard.lifes - len(oppboard.ships)} ships afloat')\n",
        "\n",
        "  def out(self, dot):\n",
        "    if dot.get_x() < 0 or dot.get_x() > FIELD_SIZE - 1 or dot.get_y() < 0 or dot.get_y() > FIELD_SIZE - 1:\n",
        "      return(True)\n",
        "    else:\n",
        "      return(False)\n",
        "\n",
        "  def busy(self, dot):\n",
        "    if dot in self.adots:\n",
        "      return(False)\n",
        "    else:\n",
        "      return(True)\n",
        "\n",
        "  def find_ship(self, dot): # returns a Ship if a dot is assosiated with the Ship on the Board\n",
        "    for each in self.ships:\n",
        "      if dot in each.dots():\n",
        "        return(each)\n",
        "    return(False)\n",
        "\n",
        "  def shot(self, dot): # returns a Ship if it is destroyed, True if it is damaged, and False if the shot missed the target\n",
        "    ship = self.find_ship(dot)\n",
        "    if ship:\n",
        "      ship.lifes -= 1\n",
        "      if ship.lifes > 0:\n",
        "        return(True)\n",
        "      else:\n",
        "        return(ship)\n",
        "    else:\n",
        "      return(False)\n"
      ],
      "execution_count": null,
      "outputs": []
    },
    {
      "cell_type": "markdown",
      "metadata": {
        "id": "7JvLd_Pgd7WR"
      },
      "source": [
        "# Player class and sub-classes"
      ]
    },
    {
      "cell_type": "code",
      "metadata": {
        "id": "S11jbm-ud7gk"
      },
      "source": [
        "class Player:\n",
        "  def __init__(self, board, oppboard):\n",
        "    self.board = board\n",
        "    self.oppboard = oppboard\n",
        "\n",
        "  def ask(self):\n",
        "    # the method will be inherited and redefined in the child classes\n",
        "    pass\n",
        "\n",
        "  def move(self):\n",
        "    # returns a dot for shot\n",
        "    dot = self.ask()\n",
        "    if dot in self.oppboard.adots:\n",
        "      return(dot)\n",
        "    else:\n",
        "      raise BoardOutException\n",
        "\n",
        "class AI(Player):\n",
        "  def ask(self):\n",
        "    if 1 != 1: \n",
        "      # here should be an AI logic to choose the best dot to shoot\n",
        "      # - if damaged ship(s) exist(s), continue to shoot at it(them)\n",
        "      pass\n",
        "    else:\n",
        "      # here is a simple AI logic based on a random shot\n",
        "      dot = self.oppboard.adots[randint(0, len(self.oppboard.adots)-1)]\n",
        "      return(dot)\n",
        "\n",
        "class User(Player):\n",
        "  def ask(self):\n",
        "    while True:\n",
        "      try:\n",
        "        x, y = (int(x) for x in input('Your turn (row, col): ').split())\n",
        "        dot = Dot(x-1, y-1)\n",
        "        if self.oppboard.out(dot): raise BoardOutException\n",
        "        if self.oppboard.busy(dot): raise SpotBusyException\n",
        "        if self.oppboard.adots == []: raise OutOfSpaceException\n",
        "      except ValueError: print(f'You have to enter two numbers! Try again.')\n",
        "      except BoardOutException: print(f'The Dot({x}, {y}) is out of the Border! Try again.')\n",
        "      except SpotBusyException: print(f'The Dot({x}, {y}) is occupied! Try again.')\n",
        "      except OutOfSpaceException: \n",
        "        print('Game over')\n",
        "        return(False)\n",
        "      else:\n",
        "        return(dot)\n",
        "      \n"
      ],
      "execution_count": null,
      "outputs": []
    },
    {
      "cell_type": "markdown",
      "metadata": {
        "id": "GlwcmviIeD6R"
      },
      "source": [
        "# The external logic of the game\n",
        "## User Interface\n",
        "### Game class"
      ]
    },
    {
      "cell_type": "code",
      "metadata": {
        "id": "6KqaaHS9eHZ2"
      },
      "source": [
        "class Game:\n",
        "  def __init__(self):\n",
        "    self.user_board = Board()\n",
        "    self.user_oppboard = Board()\n",
        "    self.ai_board = Board()\n",
        "    self.ai_oppboard = Board()\n",
        "\n",
        "    self.user = User(self.user_board, self.user_oppboard)\n",
        "    self.ai = AI(self.ai_board, self.ai_oppboard)\n",
        "    self.players = [self.user, self.ai]\n",
        "\n",
        "    self.turn = False\n",
        "     \n",
        "  def random_board(self, board, verbose=False):\n",
        "    for sub_fleet in list(FLEET.items()):\n",
        "      for i in range(1, sub_fleet[1]+1):\n",
        "        while True:\n",
        "          try:\n",
        "            if board.adots == []:\n",
        "              raise OutOfSpaceException\n",
        "            dot = board.adots[randint(0, len(board.adots)-1)]\n",
        "            vh = randint(0, 1)\n",
        "            row = dot.get_x()\n",
        "            col = dot.get_y()\n",
        "            board.add_ship(Ship(sub_fleet[0], dot, vh))\n",
        "            break\n",
        "          except SpotBusyException:\n",
        "            if verbose: print('This cell is busy! Try again.')\n",
        "          except BoardOutException:\n",
        "            if verbose: print('This cell is out of field! Try again.')\n",
        "          except ValueError:\n",
        "            if verbose: print('It''s required two numbers at least! Try again.')\n",
        "          except OutOfSpaceException:\n",
        "            if verbose: print('No free spots on the field! Try again.')\n",
        "            return(False)\n",
        "    return(True)      \n",
        "\n",
        "\n",
        "  def manual_board(self):\n",
        "    print('Hello! Here is your Board. Please put your ships on it (:q to quit):')\n",
        "    self.user_board.show_board()\n",
        "\n",
        "    for sub_fleet in list(FLEET.items()):\n",
        "      for i in range(1, sub_fleet[1]+1):\n",
        "        while True:\n",
        "          try:\n",
        "            if self.user_board.adots == []: raise OutOfSpaceException\n",
        "            if sub_fleet[0] == 1: ship_data = input(f'{sub_fleet[0]}-deck ship #{i}: row, col: ').split()\n",
        "            else: ship_data = input(f'{sub_fleet[0]}-deck ship #{i}: row, col, direction (0=v, 1=h): ').split()\n",
        "            if ship_data[0] == ':q': return(False)\n",
        "            if len(ship_data) < 2: raise ValueError\n",
        "            elif len(ship_data) == 2: ship_data.append('0')\n",
        "\n",
        "            row, col, dir = [int(x) for x in ship_data]\n",
        "            self.user_board.add_ship(Ship(sub_fleet[0], Dot(row-1, col-1), 0 if dir == 0 else 1))\n",
        "            self.user_board.show_board()\n",
        "            break\n",
        "          except SpotBusyException: print('This cell is busy! Try again.')\n",
        "          except BoardOutException: print('This cell is out of field! Try again.')\n",
        "          except ValueError: print('It''s required two numbers at least! Try again.')\n",
        "          except OutOfSpaceException: \n",
        "            print('No free spots on the field! Try again.')\n",
        "            return(False)\n",
        "    return(True)\n",
        "\n",
        "  def loop(self):\n",
        "    turn = input('Do you want to start? [y/N]').upper() != 'Y'\n",
        "  \n",
        "    while True:\n",
        "      move = self.players[turn].move() # get a dot to shoot\n",
        "      print(f'It is {type(self.players[turn]).__name__} turn - {move+Dot(1,1)}:')\n",
        "      shot = self.players[~turn].board.shot(move)\n",
        "      if type(shot).__name__ == 'Ship':\n",
        "        for each in shot.dots():\n",
        "            self.players[~turn].board.field[each.get_x()][each.get_y()] = DESTROY_CHAR\n",
        "            self.players[turn].oppboard.field[each.get_x()][each.get_y()] = DESTROY_CHAR\n",
        "            self.players[~turn].board.contour(shot, True)\n",
        "            self.players[turn].oppboard.contour(shot, True)\n",
        "        self.players[~turn].board.ships.remove(shot)\n",
        "        self.players[turn].oppboard.ships.append(shot)\n",
        "      else:\n",
        "        if shot:\n",
        "            self.players[~turn].board.field[move.get_x()][move.get_y()] = DAMAGE_CHAR\n",
        "            self.players[turn].oppboard.field[move.get_x()][move.get_y()] = DAMAGE_CHAR\n",
        "            self.players[~turn].board.contour(Ship(1, move, 0), False)\n",
        "            self.players[turn].oppboard.contour(Ship(1, move, 0), False)\n",
        "        else:\n",
        "            self.players[~turn].board.field[move.get_x()][move.get_y()] = MISS_CHAR\n",
        "            self.players[turn].oppboard.field[move.get_x()][move.get_y()] = MISS_CHAR\n",
        "            turn = ~turn\n",
        "\n",
        "      self.user_board.show_boards(self.user_oppboard)\n",
        "\n",
        "      if len(self.user_board.ships) == 0:\n",
        "        print('AI won!')\n",
        "        return(True)\n",
        "      elif len(self.ai_board.ships) == 0:\n",
        "        print('You won!')\n",
        "        return(True)\n",
        "\n",
        "  def start(self):\n",
        "    if input('Do you need help to settle your fleet? [y/N]').upper() == 'Y':\n",
        "      self.random_board(self.user_board)\n",
        "    else:\n",
        "      self.manual_board()\n",
        "\n",
        "    print('This is AI board. For test purposes only!')\n",
        "    self.random_board(self.ai_board)\n",
        "    self.ai_board.show_board(True)\n",
        "\n",
        "    print('This is your board.')\n",
        "    self.user_board.show_boards(self.user_oppboard)\n",
        "\n",
        "    self.loop()"
      ],
      "execution_count": null,
      "outputs": []
    },
    {
      "cell_type": "markdown",
      "metadata": {
        "id": "piIUsC63ekLE"
      },
      "source": [
        "# Artificial Intelligence"
      ]
    },
    {
      "cell_type": "markdown",
      "metadata": {
        "id": "LISkEDZLetel"
      },
      "source": [
        "## Game Controller (counts a number of wrecked ships)"
      ]
    },
    {
      "cell_type": "code",
      "metadata": {
        "id": "DgdryxMsc7k8"
      },
      "source": [
        "# Artificial Intelligence\n"
      ],
      "execution_count": null,
      "outputs": []
    },
    {
      "cell_type": "markdown",
      "metadata": {
        "id": "Z73_nv0jex4r"
      },
      "source": [
        "# Main"
      ]
    },
    {
      "cell_type": "code",
      "metadata": {
        "colab": {
          "base_uri": "https://localhost:8080/",
          "height": 1000
        },
        "id": "zcUJuY60yDeH",
        "outputId": "44eea628-f7e4-483f-d543-4de6ea9b3437"
      },
      "source": [
        "# Main\n",
        "if __name__ == '__main__':\n",
        "  game = Game()\n",
        "  game.start()"
      ],
      "execution_count": null,
      "outputs": [
        {
          "output_type": "stream",
          "name": "stdout",
          "text": [
            "Do you need help to settle your fleet? [y/N]y\n",
            "This is AI board. For test purposes only!\n",
            "\u001b[90m----------------------------\n",
            "   | 1 | 2 | 3 | 4 | 5 | 6 |\n",
            "----------------------------\n",
            " 1 | ▫ | ▫ | ▫ | ▫ | ▫ | ▣ | \n",
            " 2 | ▣ | ▣ | ▣ | ▫ | ▫ | ▣ | \n",
            " 3 | ▫ | ▫ | ▫ | ▫ | ▫ | ▫ | \n",
            " 4 | ▫ | ▣ | ▣ | ▫ | ▣ | ▫ | \n",
            " 5 | ▫ | ▫ | ▫ | ▫ | ▫ | ▫ | \n",
            " 6 | ▣ | ▫ | ▫ | ▣ | ▫ | ▣ | \n",
            "----------------------------\n",
            "\u001b[0mThis is your board.\n",
            "\u001b[2J----------------------------            ----------------------------\n",
            "   | 1 | 2 | 3 | 4 | 5 | 6 |               | 1 | 2 | 3 | 4 | 5 | 6 |\n",
            "----------------------------            ----------------------------\n",
            " 1 | ▣ | ▣ | ▫ | ▣ | ▫ | ▫ |             1 | ◌ | ◌ | ◌ | ◌ | ◌ | ◌ | \n",
            " 2 | ▫ | ▫ | ▫ | ▣ | ▫ | ▣ |             2 | ◌ | ◌ | ◌ | ◌ | ◌ | ◌ | \n",
            " 3 | ▣ | ▫ | ▫ | ▫ | ▫ | ▫ |             3 | ◌ | ◌ | ◌ | ◌ | ◌ | ◌ | \n",
            " 4 | ▫ | ▫ | ▫ | ▫ | ▣ | ▫ |             4 | ◌ | ◌ | ◌ | ◌ | ◌ | ◌ | \n",
            " 5 | ▣ | ▣ | ▣ | ▫ | ▫ | ▫ |             5 | ◌ | ◌ | ◌ | ◌ | ◌ | ◌ | \n",
            " 6 | ▫ | ▫ | ▫ | ▫ | ▣ | ▫ |             6 | ◌ | ◌ | ◌ | ◌ | ◌ | ◌ | \n",
            "----------------------------            ----------------------------\n",
            "7 ships afloat                          7 ships afloat\n",
            "Do you want to start? [y/N]\n",
            "It is AI turn - Dot: (6, 2):\n",
            "\u001b[2J----------------------------            ----------------------------\n",
            "   | 1 | 2 | 3 | 4 | 5 | 6 |               | 1 | 2 | 3 | 4 | 5 | 6 |\n",
            "----------------------------            ----------------------------\n",
            " 1 | ▣ | ▣ | ▫ | ▣ | ▫ | ▫ |             1 | ◌ | ◌ | ◌ | ◌ | ◌ | ◌ | \n",
            " 2 | ▫ | ▫ | ▫ | ▣ | ▫ | ▣ |             2 | ◌ | ◌ | ◌ | ◌ | ◌ | ◌ | \n",
            " 3 | ▣ | ▫ | ▫ | ▫ | ▫ | ▫ |             3 | ◌ | ◌ | ◌ | ◌ | ◌ | ◌ | \n",
            " 4 | ▫ | ▫ | ▫ | ▫ | ▣ | ▫ |             4 | ◌ | ◌ | ◌ | ◌ | ◌ | ◌ | \n",
            " 5 | ▣ | ▣ | ▣ | ▫ | ▫ | ▫ |             5 | ◌ | ◌ | ◌ | ◌ | ◌ | ◌ | \n",
            " 6 | ▫ | \u001b[91m⦸\u001b[0m | ▫ | ▫ | ▣ | ▫ |             6 | ◌ | ◌ | ◌ | ◌ | ◌ | ◌ | \n",
            "----------------------------            ----------------------------\n",
            "7 ships afloat                          7 ships afloat\n",
            "Your turn (row, col): x\n",
            "You have to enter two numbers! Try again.\n",
            "Your turn (row, col): :q\n",
            "You have to enter two numbers! Try again.\n"
          ]
        },
        {
          "output_type": "error",
          "ename": "KeyboardInterrupt",
          "evalue": "ignored",
          "traceback": [
            "\u001b[0;31m---------------------------------------------------------------------------\u001b[0m",
            "\u001b[0;31mKeyboardInterrupt\u001b[0m                         Traceback (most recent call last)",
            "\u001b[0;32m/usr/local/lib/python3.7/dist-packages/ipykernel/kernelbase.py\u001b[0m in \u001b[0;36m_input_request\u001b[0;34m(self, prompt, ident, parent, password)\u001b[0m\n\u001b[1;32m    728\u001b[0m             \u001b[0;32mtry\u001b[0m\u001b[0;34m:\u001b[0m\u001b[0;34m\u001b[0m\u001b[0;34m\u001b[0m\u001b[0m\n\u001b[0;32m--> 729\u001b[0;31m                 \u001b[0mident\u001b[0m\u001b[0;34m,\u001b[0m \u001b[0mreply\u001b[0m \u001b[0;34m=\u001b[0m \u001b[0mself\u001b[0m\u001b[0;34m.\u001b[0m\u001b[0msession\u001b[0m\u001b[0;34m.\u001b[0m\u001b[0mrecv\u001b[0m\u001b[0;34m(\u001b[0m\u001b[0mself\u001b[0m\u001b[0;34m.\u001b[0m\u001b[0mstdin_socket\u001b[0m\u001b[0;34m,\u001b[0m \u001b[0;36m0\u001b[0m\u001b[0;34m)\u001b[0m\u001b[0;34m\u001b[0m\u001b[0;34m\u001b[0m\u001b[0m\n\u001b[0m\u001b[1;32m    730\u001b[0m             \u001b[0;32mexcept\u001b[0m \u001b[0mException\u001b[0m\u001b[0;34m:\u001b[0m\u001b[0;34m\u001b[0m\u001b[0;34m\u001b[0m\u001b[0m\n",
            "\u001b[0;32m/usr/local/lib/python3.7/dist-packages/jupyter_client/session.py\u001b[0m in \u001b[0;36mrecv\u001b[0;34m(self, socket, mode, content, copy)\u001b[0m\n\u001b[1;32m    802\u001b[0m         \u001b[0;32mtry\u001b[0m\u001b[0;34m:\u001b[0m\u001b[0;34m\u001b[0m\u001b[0;34m\u001b[0m\u001b[0m\n\u001b[0;32m--> 803\u001b[0;31m             \u001b[0mmsg_list\u001b[0m \u001b[0;34m=\u001b[0m \u001b[0msocket\u001b[0m\u001b[0;34m.\u001b[0m\u001b[0mrecv_multipart\u001b[0m\u001b[0;34m(\u001b[0m\u001b[0mmode\u001b[0m\u001b[0;34m,\u001b[0m \u001b[0mcopy\u001b[0m\u001b[0;34m=\u001b[0m\u001b[0mcopy\u001b[0m\u001b[0;34m)\u001b[0m\u001b[0;34m\u001b[0m\u001b[0;34m\u001b[0m\u001b[0m\n\u001b[0m\u001b[1;32m    804\u001b[0m         \u001b[0;32mexcept\u001b[0m \u001b[0mzmq\u001b[0m\u001b[0;34m.\u001b[0m\u001b[0mZMQError\u001b[0m \u001b[0;32mas\u001b[0m \u001b[0me\u001b[0m\u001b[0;34m:\u001b[0m\u001b[0;34m\u001b[0m\u001b[0;34m\u001b[0m\u001b[0m\n",
            "\u001b[0;32m/usr/local/lib/python3.7/dist-packages/zmq/sugar/socket.py\u001b[0m in \u001b[0;36mrecv_multipart\u001b[0;34m(self, flags, copy, track)\u001b[0m\n\u001b[1;32m    618\u001b[0m         \"\"\"\n\u001b[0;32m--> 619\u001b[0;31m         \u001b[0mparts\u001b[0m \u001b[0;34m=\u001b[0m \u001b[0;34m[\u001b[0m\u001b[0mself\u001b[0m\u001b[0;34m.\u001b[0m\u001b[0mrecv\u001b[0m\u001b[0;34m(\u001b[0m\u001b[0mflags\u001b[0m\u001b[0;34m,\u001b[0m \u001b[0mcopy\u001b[0m\u001b[0;34m=\u001b[0m\u001b[0mcopy\u001b[0m\u001b[0;34m,\u001b[0m \u001b[0mtrack\u001b[0m\u001b[0;34m=\u001b[0m\u001b[0mtrack\u001b[0m\u001b[0;34m)\u001b[0m\u001b[0;34m]\u001b[0m\u001b[0;34m\u001b[0m\u001b[0;34m\u001b[0m\u001b[0m\n\u001b[0m\u001b[1;32m    620\u001b[0m         \u001b[0;31m# have first part already, only loop while more to receive\u001b[0m\u001b[0;34m\u001b[0m\u001b[0;34m\u001b[0m\u001b[0;34m\u001b[0m\u001b[0m\n",
            "\u001b[0;32mzmq/backend/cython/socket.pyx\u001b[0m in \u001b[0;36mzmq.backend.cython.socket.Socket.recv\u001b[0;34m()\u001b[0m\n",
            "\u001b[0;32mzmq/backend/cython/socket.pyx\u001b[0m in \u001b[0;36mzmq.backend.cython.socket.Socket.recv\u001b[0;34m()\u001b[0m\n",
            "\u001b[0;32mzmq/backend/cython/socket.pyx\u001b[0m in \u001b[0;36mzmq.backend.cython.socket._recv_copy\u001b[0;34m()\u001b[0m\n",
            "\u001b[0;32m/usr/local/lib/python3.7/dist-packages/zmq/backend/cython/checkrc.pxd\u001b[0m in \u001b[0;36mzmq.backend.cython.checkrc._check_rc\u001b[0;34m()\u001b[0m\n",
            "\u001b[0;31mKeyboardInterrupt\u001b[0m: ",
            "\nDuring handling of the above exception, another exception occurred:\n",
            "\u001b[0;31mKeyboardInterrupt\u001b[0m                         Traceback (most recent call last)",
            "\u001b[0;32m<ipython-input-17-a5fb59b17002>\u001b[0m in \u001b[0;36m<module>\u001b[0;34m()\u001b[0m\n\u001b[1;32m      2\u001b[0m \u001b[0;32mif\u001b[0m \u001b[0m__name__\u001b[0m \u001b[0;34m==\u001b[0m \u001b[0;34m'__main__'\u001b[0m\u001b[0;34m:\u001b[0m\u001b[0;34m\u001b[0m\u001b[0;34m\u001b[0m\u001b[0m\n\u001b[1;32m      3\u001b[0m   \u001b[0mgame\u001b[0m \u001b[0;34m=\u001b[0m \u001b[0mGame\u001b[0m\u001b[0;34m(\u001b[0m\u001b[0;34m)\u001b[0m\u001b[0;34m\u001b[0m\u001b[0;34m\u001b[0m\u001b[0m\n\u001b[0;32m----> 4\u001b[0;31m   \u001b[0mgame\u001b[0m\u001b[0;34m.\u001b[0m\u001b[0mstart\u001b[0m\u001b[0;34m(\u001b[0m\u001b[0;34m)\u001b[0m\u001b[0;34m\u001b[0m\u001b[0;34m\u001b[0m\u001b[0m\n\u001b[0m",
            "\u001b[0;32m<ipython-input-13-85afe703c1fe>\u001b[0m in \u001b[0;36mstart\u001b[0;34m(self)\u001b[0m\n\u001b[1;32m    112\u001b[0m     \u001b[0mself\u001b[0m\u001b[0;34m.\u001b[0m\u001b[0muser_board\u001b[0m\u001b[0;34m.\u001b[0m\u001b[0mshow_boards\u001b[0m\u001b[0;34m(\u001b[0m\u001b[0mself\u001b[0m\u001b[0;34m.\u001b[0m\u001b[0muser_oppboard\u001b[0m\u001b[0;34m)\u001b[0m\u001b[0;34m\u001b[0m\u001b[0;34m\u001b[0m\u001b[0m\n\u001b[1;32m    113\u001b[0m \u001b[0;34m\u001b[0m\u001b[0m\n\u001b[0;32m--> 114\u001b[0;31m     \u001b[0mself\u001b[0m\u001b[0;34m.\u001b[0m\u001b[0mloop\u001b[0m\u001b[0;34m(\u001b[0m\u001b[0;34m)\u001b[0m\u001b[0;34m\u001b[0m\u001b[0;34m\u001b[0m\u001b[0m\n\u001b[0m",
            "\u001b[0;32m<ipython-input-13-85afe703c1fe>\u001b[0m in \u001b[0;36mloop\u001b[0;34m(self)\u001b[0m\n\u001b[1;32m     68\u001b[0m \u001b[0;34m\u001b[0m\u001b[0m\n\u001b[1;32m     69\u001b[0m     \u001b[0;32mwhile\u001b[0m \u001b[0;32mTrue\u001b[0m\u001b[0;34m:\u001b[0m\u001b[0;34m\u001b[0m\u001b[0;34m\u001b[0m\u001b[0m\n\u001b[0;32m---> 70\u001b[0;31m       \u001b[0mmove\u001b[0m \u001b[0;34m=\u001b[0m \u001b[0mself\u001b[0m\u001b[0;34m.\u001b[0m\u001b[0mplayers\u001b[0m\u001b[0;34m[\u001b[0m\u001b[0mturn\u001b[0m\u001b[0;34m]\u001b[0m\u001b[0;34m.\u001b[0m\u001b[0mmove\u001b[0m\u001b[0;34m(\u001b[0m\u001b[0;34m)\u001b[0m \u001b[0;31m# get a dot to shoot\u001b[0m\u001b[0;34m\u001b[0m\u001b[0;34m\u001b[0m\u001b[0m\n\u001b[0m\u001b[1;32m     71\u001b[0m       \u001b[0mprint\u001b[0m\u001b[0;34m(\u001b[0m\u001b[0;34mf'It is {type(self.players[turn]).__name__} turn - {move+Dot(1,1)}:'\u001b[0m\u001b[0;34m)\u001b[0m\u001b[0;34m\u001b[0m\u001b[0;34m\u001b[0m\u001b[0m\n\u001b[1;32m     72\u001b[0m       \u001b[0mshot\u001b[0m \u001b[0;34m=\u001b[0m \u001b[0mself\u001b[0m\u001b[0;34m.\u001b[0m\u001b[0mplayers\u001b[0m\u001b[0;34m[\u001b[0m\u001b[0;34m~\u001b[0m\u001b[0mturn\u001b[0m\u001b[0;34m]\u001b[0m\u001b[0;34m.\u001b[0m\u001b[0mboard\u001b[0m\u001b[0;34m.\u001b[0m\u001b[0mshot\u001b[0m\u001b[0;34m(\u001b[0m\u001b[0mmove\u001b[0m\u001b[0;34m)\u001b[0m\u001b[0;34m\u001b[0m\u001b[0;34m\u001b[0m\u001b[0m\n",
            "\u001b[0;32m<ipython-input-6-1c2afead662f>\u001b[0m in \u001b[0;36mmove\u001b[0;34m(self)\u001b[0m\n\u001b[1;32m     10\u001b[0m   \u001b[0;32mdef\u001b[0m \u001b[0mmove\u001b[0m\u001b[0;34m(\u001b[0m\u001b[0mself\u001b[0m\u001b[0;34m)\u001b[0m\u001b[0;34m:\u001b[0m\u001b[0;34m\u001b[0m\u001b[0;34m\u001b[0m\u001b[0m\n\u001b[1;32m     11\u001b[0m     \u001b[0;31m# returns a dot for shot\u001b[0m\u001b[0;34m\u001b[0m\u001b[0;34m\u001b[0m\u001b[0;34m\u001b[0m\u001b[0m\n\u001b[0;32m---> 12\u001b[0;31m     \u001b[0mdot\u001b[0m \u001b[0;34m=\u001b[0m \u001b[0mself\u001b[0m\u001b[0;34m.\u001b[0m\u001b[0mask\u001b[0m\u001b[0;34m(\u001b[0m\u001b[0;34m)\u001b[0m\u001b[0;34m\u001b[0m\u001b[0;34m\u001b[0m\u001b[0m\n\u001b[0m\u001b[1;32m     13\u001b[0m     \u001b[0;32mif\u001b[0m \u001b[0mdot\u001b[0m \u001b[0;32min\u001b[0m \u001b[0mself\u001b[0m\u001b[0;34m.\u001b[0m\u001b[0moppboard\u001b[0m\u001b[0;34m.\u001b[0m\u001b[0madots\u001b[0m\u001b[0;34m:\u001b[0m\u001b[0;34m\u001b[0m\u001b[0;34m\u001b[0m\u001b[0m\n\u001b[1;32m     14\u001b[0m       \u001b[0;32mreturn\u001b[0m\u001b[0;34m(\u001b[0m\u001b[0mdot\u001b[0m\u001b[0;34m)\u001b[0m\u001b[0;34m\u001b[0m\u001b[0;34m\u001b[0m\u001b[0m\n",
            "\u001b[0;32m<ipython-input-6-1c2afead662f>\u001b[0m in \u001b[0;36mask\u001b[0;34m(self)\u001b[0m\n\u001b[1;32m     31\u001b[0m     \u001b[0;32mwhile\u001b[0m \u001b[0;32mTrue\u001b[0m\u001b[0;34m:\u001b[0m\u001b[0;34m\u001b[0m\u001b[0;34m\u001b[0m\u001b[0m\n\u001b[1;32m     32\u001b[0m       \u001b[0;32mtry\u001b[0m\u001b[0;34m:\u001b[0m\u001b[0;34m\u001b[0m\u001b[0;34m\u001b[0m\u001b[0m\n\u001b[0;32m---> 33\u001b[0;31m         \u001b[0mx\u001b[0m\u001b[0;34m,\u001b[0m \u001b[0my\u001b[0m \u001b[0;34m=\u001b[0m \u001b[0;34m(\u001b[0m\u001b[0mint\u001b[0m\u001b[0;34m(\u001b[0m\u001b[0mx\u001b[0m\u001b[0;34m)\u001b[0m \u001b[0;32mfor\u001b[0m \u001b[0mx\u001b[0m \u001b[0;32min\u001b[0m \u001b[0minput\u001b[0m\u001b[0;34m(\u001b[0m\u001b[0;34m'Your turn (row, col): '\u001b[0m\u001b[0;34m)\u001b[0m\u001b[0;34m.\u001b[0m\u001b[0msplit\u001b[0m\u001b[0;34m(\u001b[0m\u001b[0;34m)\u001b[0m\u001b[0;34m)\u001b[0m\u001b[0;34m\u001b[0m\u001b[0;34m\u001b[0m\u001b[0m\n\u001b[0m\u001b[1;32m     34\u001b[0m         \u001b[0mdot\u001b[0m \u001b[0;34m=\u001b[0m \u001b[0mDot\u001b[0m\u001b[0;34m(\u001b[0m\u001b[0mx\u001b[0m\u001b[0;34m-\u001b[0m\u001b[0;36m1\u001b[0m\u001b[0;34m,\u001b[0m \u001b[0my\u001b[0m\u001b[0;34m-\u001b[0m\u001b[0;36m1\u001b[0m\u001b[0;34m)\u001b[0m\u001b[0;34m\u001b[0m\u001b[0;34m\u001b[0m\u001b[0m\n\u001b[1;32m     35\u001b[0m         \u001b[0;32mif\u001b[0m \u001b[0mself\u001b[0m\u001b[0;34m.\u001b[0m\u001b[0moppboard\u001b[0m\u001b[0;34m.\u001b[0m\u001b[0mout\u001b[0m\u001b[0;34m(\u001b[0m\u001b[0mdot\u001b[0m\u001b[0;34m)\u001b[0m\u001b[0;34m:\u001b[0m \u001b[0;32mraise\u001b[0m \u001b[0mBoardOutException\u001b[0m\u001b[0;34m\u001b[0m\u001b[0;34m\u001b[0m\u001b[0m\n",
            "\u001b[0;32m/usr/local/lib/python3.7/dist-packages/ipykernel/kernelbase.py\u001b[0m in \u001b[0;36mraw_input\u001b[0;34m(self, prompt)\u001b[0m\n\u001b[1;32m    702\u001b[0m             \u001b[0mself\u001b[0m\u001b[0;34m.\u001b[0m\u001b[0m_parent_ident\u001b[0m\u001b[0;34m,\u001b[0m\u001b[0;34m\u001b[0m\u001b[0;34m\u001b[0m\u001b[0m\n\u001b[1;32m    703\u001b[0m             \u001b[0mself\u001b[0m\u001b[0;34m.\u001b[0m\u001b[0m_parent_header\u001b[0m\u001b[0;34m,\u001b[0m\u001b[0;34m\u001b[0m\u001b[0;34m\u001b[0m\u001b[0m\n\u001b[0;32m--> 704\u001b[0;31m             \u001b[0mpassword\u001b[0m\u001b[0;34m=\u001b[0m\u001b[0;32mFalse\u001b[0m\u001b[0;34m,\u001b[0m\u001b[0;34m\u001b[0m\u001b[0;34m\u001b[0m\u001b[0m\n\u001b[0m\u001b[1;32m    705\u001b[0m         )\n\u001b[1;32m    706\u001b[0m \u001b[0;34m\u001b[0m\u001b[0m\n",
            "\u001b[0;32m/usr/local/lib/python3.7/dist-packages/ipykernel/kernelbase.py\u001b[0m in \u001b[0;36m_input_request\u001b[0;34m(self, prompt, ident, parent, password)\u001b[0m\n\u001b[1;32m    732\u001b[0m             \u001b[0;32mexcept\u001b[0m \u001b[0mKeyboardInterrupt\u001b[0m\u001b[0;34m:\u001b[0m\u001b[0;34m\u001b[0m\u001b[0;34m\u001b[0m\u001b[0m\n\u001b[1;32m    733\u001b[0m                 \u001b[0;31m# re-raise KeyboardInterrupt, to truncate traceback\u001b[0m\u001b[0;34m\u001b[0m\u001b[0;34m\u001b[0m\u001b[0;34m\u001b[0m\u001b[0m\n\u001b[0;32m--> 734\u001b[0;31m                 \u001b[0;32mraise\u001b[0m \u001b[0mKeyboardInterrupt\u001b[0m\u001b[0;34m\u001b[0m\u001b[0;34m\u001b[0m\u001b[0m\n\u001b[0m\u001b[1;32m    735\u001b[0m             \u001b[0;32melse\u001b[0m\u001b[0;34m:\u001b[0m\u001b[0;34m\u001b[0m\u001b[0;34m\u001b[0m\u001b[0m\n\u001b[1;32m    736\u001b[0m                 \u001b[0;32mbreak\u001b[0m\u001b[0;34m\u001b[0m\u001b[0;34m\u001b[0m\u001b[0m\n",
            "\u001b[0;31mKeyboardInterrupt\u001b[0m: "
          ]
        }
      ]
    },
    {
      "cell_type": "code",
      "metadata": {
        "id": "Eyg-yapJ1pIs"
      },
      "source": [
        ""
      ],
      "execution_count": null,
      "outputs": []
    }
  ]
}