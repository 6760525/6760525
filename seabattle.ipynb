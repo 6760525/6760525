{
  "nbformat": 4,
  "nbformat_minor": 0,
  "metadata": {
    "colab": {
      "name": "Untitled2.ipynb",
      "provenance": [],
      "authorship_tag": "ABX9TyOlVGu6veTaioNZhXNcyiY2",
      "include_colab_link": true
    },
    "kernelspec": {
      "name": "python3",
      "display_name": "Python 3"
    },
    "language_info": {
      "name": "python"
    }
  },
  "cells": [
    {
      "cell_type": "markdown",
      "metadata": {
        "id": "view-in-github",
        "colab_type": "text"
      },
      "source": [
        "<a href=\"https://colab.research.google.com/github/6760525/6760525/blob/main/seabattle.ipynb\" target=\"_parent\"><img src=\"https://colab.research.google.com/assets/colab-badge.svg\" alt=\"Open In Colab\"/></a>"
      ]
    },
    {
      "cell_type": "markdown",
      "metadata": {
        "id": "tpyl5pu1cqiS"
      },
      "source": [
        "# Imports and Constants"
      ]
    },
    {
      "cell_type": "code",
      "metadata": {
        "id": "fQYpjgxjiT6g"
      },
      "source": [
        "#Imports\n",
        "from random import randint\n",
        "\n",
        "#Constants\n",
        "\n",
        "# The game's square field size\n",
        "FIELD_SIZE = 6 \n",
        "#FIELD_SIZE = 10\n",
        "\n",
        "# The game's fleet structure: key - number of decks, value - number of ships\n",
        "FLEET = {3: 1, 2: 2, 1: 4} \n",
        "#FLEET = {4:1, 3: 2, 2: 3, 1: 4}\n",
        "\n",
        "EMPTY_CHAR = chr(0x25CC)\n",
        "SHIP_CHAR = chr(0x25A3)\n",
        "CONTOUR_CHAR = chr(0x25AB)\n",
        "\n",
        "\n"
      ],
      "execution_count": 1,
      "outputs": []
    },
    {
      "cell_type": "markdown",
      "metadata": {
        "id": "NZ53uZXEcebA"
      },
      "source": [
        "# Internal logic of the game"
      ]
    },
    {
      "cell_type": "markdown",
      "metadata": {
        "id": "p__Amm2Rcz7k"
      },
      "source": [
        "## Classes of Exceptions:"
      ]
    },
    {
      "cell_type": "code",
      "metadata": {
        "id": "ob23KeGnccBC"
      },
      "source": [
        "# Classes of Exceptions:\n",
        "class BoardOutException(BaseException):\n",
        "  pass\n",
        "\n",
        "class SpotBusyException(BaseException):\n",
        "  pass\n",
        "\n",
        "class OutOfSpaceException(BaseException):\n",
        "  pass\n"
      ],
      "execution_count": 2,
      "outputs": []
    },
    {
      "cell_type": "markdown",
      "metadata": {
        "id": "--zW5OgRc75x"
      },
      "source": [
        "## Dots and Ships\n"
      ]
    },
    {
      "cell_type": "markdown",
      "metadata": {
        "id": "oihpGQcCdHBI"
      },
      "source": [
        "### Dot is a class for coordinates on the game's field"
      ]
    },
    {
      "cell_type": "code",
      "metadata": {
        "id": "to85l8GKdGwK"
      },
      "source": [
        "# Dot is a class for coordinates on the game's field\n",
        "class Dot:\n",
        "  def __init__(self, x, y):\n",
        "    self.x = x\n",
        "    self.y = y\n",
        "\n",
        "  def get_x(self):\n",
        "    return self.x\n",
        "\n",
        "  def get_y(self):\n",
        "    return self.y\n",
        "\n",
        "  # checks if a dot is on the board\n",
        "  def __eq__(self, other):\n",
        "    return self.x == other.x and self.y == other.y\n",
        "\n",
        "  def __str__(self):\n",
        "    return f'Dot: {self.x, self.y}'\n"
      ],
      "execution_count": 3,
      "outputs": []
    },
    {
      "cell_type": "markdown",
      "metadata": {
        "id": "PfmIVQMrdR_r"
      },
      "source": [
        "### Ship is a class for a ship"
      ]
    },
    {
      "cell_type": "code",
      "metadata": {
        "id": "Kp4zVHfFdRte"
      },
      "source": [
        "# Ships\n",
        "class Ship:\n",
        "  def __init__(self, length, dot, dir, lifes):\n",
        "    self.length = length\n",
        "    self.dot = dot\n",
        "    self.dir = dir\n",
        "    self.lifes = lifes\n",
        "\n",
        "  def dots(self):\n",
        "    # Returns list of all ship's dots\n",
        "    dots_list = []\n",
        "    x = self.dot.get_x()\n",
        "    y = self.dot.get_y()\n",
        "    dx, dy = (0, 1) if self.dir == 1 else (1, 0)\n",
        "    for i in range(self.length):\n",
        "      dots_list.append(Dot(x + i * dx, y + i * dy))\n",
        "    return(dots_list)\n",
        "\n"
      ],
      "execution_count": 4,
      "outputs": []
    },
    {
      "cell_type": "markdown",
      "metadata": {
        "id": "Ihrksk9adj4j"
      },
      "source": [
        "## Board class\n"
      ]
    },
    {
      "cell_type": "code",
      "metadata": {
        "id": "6-Q0q9mVdjd3"
      },
      "source": [
        "class Board:\n",
        "  def __init__(self):\n",
        "    self.field = [[EMPTY_CHAR] * FIELD_SIZE for _ in range(FIELD_SIZE) ]\n",
        "    self.adots = []\n",
        "    self.ships = []\n",
        "    self.hid = True\n",
        "    self.lifes = 7\n",
        "    for i in range(FIELD_SIZE):\n",
        "      for j in range(FIELD_SIZE):\n",
        "        self.adots.append(Dot(i,j))\n",
        "\n",
        "  def add_ship(self, ship):\n",
        "    if self.adots == []:\n",
        "      raise OutOfSpaceException\n",
        "\n",
        "    sd = ship.dots()\n",
        "    if all(d in self.adots for d in sd):\n",
        "      self.adots = [d for d in self.adots if (d not in sd)]\n",
        "      for d in sd: self.field[d.x][d.y] = SHIP_CHAR\n",
        "      self.ships.append(ship)\n",
        "      self.contour(ship)\n",
        "    else:\n",
        "      raise BoardOutException\n",
        "\n",
        "  def contour(self, ship):\n",
        "    for d in ship.dots():\n",
        "      for i in (-1, 0, 1):\n",
        "        for j in (-1, 0, 1):\n",
        "          cx = d.get_x() + i\n",
        "          cy = d.get_y() + j\n",
        "          cd = Dot(cx, cy)\n",
        "          if cd in self.adots:\n",
        "            self.adots.remove(cd)\n",
        "            if self.field[cx][cy] == EMPTY_CHAR:\n",
        "              self.field[cx][cy] = CONTOUR_CHAR \n",
        "\n",
        "  def show_board(self, hid=False):\n",
        "    print('-' * (4 * FIELD_SIZE + 4))\n",
        "    print('  ', end='')\n",
        "    for i in range(1, len(self.field[0])+1): print(f' |{i:2}', end='')\n",
        "    print(' |')\n",
        "    print('-' * (4 * FIELD_SIZE + 4))\n",
        "\n",
        "    if hid:\n",
        "      pass\n",
        "    else:\n",
        "      for i in range(len(self.field)):\n",
        "        print(f'{i+1:2} | ', end='')\n",
        "        for j in range(len(self.field[i])):\n",
        "          print(f'{self.field[i][j]} | ', end='')\n",
        "        print()\n",
        "    print('-' * (4 * FIELD_SIZE + 4))\n",
        "\n",
        "  def out(self):\n",
        "    pass\n",
        "\n",
        "  def shot(self, dot):\n",
        "    if dot in Board:\n",
        "        pass\n"
      ],
      "execution_count": 5,
      "outputs": []
    },
    {
      "cell_type": "markdown",
      "metadata": {
        "id": "7JvLd_Pgd7WR"
      },
      "source": [
        "# Player class and sub-classes"
      ]
    },
    {
      "cell_type": "code",
      "metadata": {
        "id": "S11jbm-ud7gk"
      },
      "source": [
        "class Player:\n",
        "  def __init__(self, board, oppboard):\n",
        "    self.board = board\n",
        "    self.oppboard = oppboard\n",
        "\n",
        "  def ask(self):\n",
        "    pass\n",
        "\n",
        "  def move(self):\n",
        "    self.ask()\n",
        "    self.oppboard.move()\n",
        "\n",
        "class AI(Player):\n",
        "  def ask(self):\n",
        "    dot = Dot()\n",
        "    if 1 != 1: # if damaged ship(s) exist(s), continue to shoot at it(them)\n",
        "      pass\n",
        "    else:\n",
        "      # выбрать случайную свободную клетку\n",
        "      dot = self.oppboard.adots[randint(0, len(self.oppboard.adots)-1)]\n",
        "      print(dot)\n",
        "                                  \n",
        "                                        \n",
        "    return(dot)\n",
        "\n",
        "class User(Player):\n",
        "  def ask(self):\n",
        "    x, y = (int(x) for x in input().split())\n",
        "    dot = Dot(x, y)\n",
        "    if dot in self.oppboard.adots:\n",
        "      return(dot)\n",
        "    else:\n",
        "      raise BoardOutException\n"
      ],
      "execution_count": 46,
      "outputs": []
    },
    {
      "cell_type": "markdown",
      "metadata": {
        "id": "GlwcmviIeD6R"
      },
      "source": [
        "# The external logic of the game\n"
      ]
    },
    {
      "cell_type": "markdown",
      "metadata": {
        "id": "iUUxO9gdeS8s"
      },
      "source": [
        "## User Interface"
      ]
    },
    {
      "cell_type": "markdown",
      "metadata": {
        "id": "1dlqaLoZebCs"
      },
      "source": [
        "### Game class\n"
      ]
    },
    {
      "cell_type": "code",
      "metadata": {
        "id": "6KqaaHS9eHZ2"
      },
      "source": [
        "class Game:\n",
        "  def __init__(self):\n",
        "    self.user_board = Board()\n",
        "    self.user_oppboard = Board()\n",
        "    self.ai_board = Board()\n",
        "    self.ai_oppboard = Board()\n",
        "\n",
        "    self.user = User(self.user_board, self.user_oppboard)\n",
        "    self.ai = AI(self.ai_board, self.ai_oppboard)\n",
        "     \n",
        "  def random_board(self, board):\n",
        "    print('Now AI is placing ships on the board...')\n",
        "    for sub_fleet in list(FLEET.items()):\n",
        "      for i in range(1, sub_fleet[1]+1):\n",
        "        while True:\n",
        "          try:\n",
        "            if board.adots == []:\n",
        "              raise OutOfSpaceException\n",
        "            dot = board.adots[randint(0, len(board.adots)-1)]\n",
        "            vh = randint(0, 1)\n",
        "            row = dot.get_x()\n",
        "            col = dot.get_y()\n",
        "            board.add_ship(Ship(sub_fleet[0], dot, vh, sub_fleet[0]))\n",
        "            break\n",
        "          except SpotBusyException:\n",
        "            print('This cell is busy! Try again.')\n",
        "          except BoardOutException:\n",
        "            print('This cell is out of field! Try again.')\n",
        "          except ValueError:\n",
        "            print('It''s required two numbers at least! Try again.')\n",
        "          except OutOfSpaceException:\n",
        "            print('No free spots on the field! Try again.')\n",
        "            return(-2)\n",
        "    return(0)      \n",
        "\n",
        "\n",
        "  def greet(self):\n",
        "    print('Hello! Here is your field. Please put your ships on it:')\n",
        "    self.user_board.show_board()\n",
        "\n",
        "    for sub_fleet in list(FLEET.items()):\n",
        "      for i in range(1, sub_fleet[1]+1):\n",
        "        while True:\n",
        "          try:\n",
        "            if self.user_board.adots == []:\n",
        "              raise OutOfSpaceException\n",
        "\n",
        "            if sub_fleet[0] == 1:\n",
        "              ship_data = input(f'{sub_fleet[0]}-deck ship #{i}: row, col: ').split()\n",
        "            else:\n",
        "              ship_data = input(f'{sub_fleet[0]}-deck ship #{i}: row, col, direction (0=v, 1=h): ').split()\n",
        "\n",
        "            if ship_data[0] == ':q':\n",
        "              return (-1)\n",
        "\n",
        "            if len(ship_data) < 2:\n",
        "              raise ValueError\n",
        "            elif len(ship_data) == 2:\n",
        "              ship_data.append('0')\n",
        "\n",
        "            row = int(ship_data[0])\n",
        "            col = int(ship_data[1])\n",
        "            dir = int(ship_data[2])\n",
        "            self.user_board.add_ship(Ship(sub_fleet[0], Dot(row-1, col-1), 0 if dir == 0 else 1, sub_fleet[0]))\n",
        "            self.user_board.show_board()\n",
        "            break\n",
        "          except SpotBusyException:\n",
        "            print('This cell is busy! Try again.')\n",
        "          except BoardOutException:\n",
        "            print('This cell is out of field! Try again.')\n",
        "          except ValueError:\n",
        "            print('It''s required two numbers at least! Try again.')\n",
        "          except OutOfSpaceException:\n",
        "            print('No free spots on the field! Try again.')\n",
        "            return(-2)\n",
        "    return(0)      \n",
        "\n",
        "  def loop(self):\n",
        "    if input('Do you want to start? [y/N]').upper() == 'Y':\n",
        "      self.user.move()\n",
        "    else:\n",
        "      self.ai.move()\n",
        "\n",
        "\n",
        "  def start(self):\n",
        "    if input('Do you need a help with settele your fleet? [y/N]').upper() == 'Y':\n",
        "      self.random_board(self.user_board)\n",
        "      print('This is your board. AI has just placed your ships on your board on your behalf:')\n",
        "      self.user_board.show_board()\n",
        "    else:\n",
        "      self.greet()\n",
        "\n",
        "    self.random_board(self.ai_board)\n",
        "    print('This is AI board. For test purposes only!')\n",
        "    self.ai_board.show_board()\n",
        "\n",
        "    self.loop()"
      ],
      "execution_count": 50,
      "outputs": []
    },
    {
      "cell_type": "markdown",
      "metadata": {
        "id": "piIUsC63ekLE"
      },
      "source": [
        "# Artificial Intelligence"
      ]
    },
    {
      "cell_type": "markdown",
      "metadata": {
        "id": "LISkEDZLetel"
      },
      "source": [
        "## Game Controller (counts a number of wrecked ships)"
      ]
    },
    {
      "cell_type": "code",
      "metadata": {
        "id": "DgdryxMsc7k8"
      },
      "source": [
        "# Artificial Intelligence\n"
      ],
      "execution_count": 51,
      "outputs": []
    },
    {
      "cell_type": "markdown",
      "metadata": {
        "id": "Z73_nv0jex4r"
      },
      "source": [
        "# Main"
      ]
    },
    {
      "cell_type": "code",
      "metadata": {
        "colab": {
          "base_uri": "https://localhost:8080/",
          "height": 901
        },
        "id": "zcUJuY60yDeH",
        "outputId": "abdbd381-9221-44b6-a6a4-7db168d9dcb9"
      },
      "source": [
        "# Main\n",
        "if __name__ == '__main__':\n",
        "  game = Game()\n",
        "  game.start()\n"
      ],
      "execution_count": 52,
      "outputs": [
        {
          "name": "stdout",
          "output_type": "stream",
          "text": [
            "Do you need a help with settele your fleet? [y/N]y\n",
            "Now AI is placing ships on the board...\n",
            "This cell is out of field! Try again.\n",
            "This is your board. AI has just placed your ships on your board on your behalf:\n",
            "----------------------------\n",
            "   | 1 | 2 | 3 | 4 | 5 | 6 |\n",
            "----------------------------\n",
            " 1 | ▫ | ▫ | ▫ | ▫ | ▫ | ▫ | \n",
            " 2 | ▫ | ▣ | ▣ | ▣ | ▫ | ▣ | \n",
            " 3 | ▫ | ▫ | ▫ | ▫ | ▫ | ▫ | \n",
            " 4 | ▫ | ▣ | ▫ | ▣ | ▫ | ▣ | \n",
            " 5 | ▫ | ▫ | ▫ | ▫ | ▫ | ▣ | \n",
            " 6 | ▣ | ▫ | ▣ | ▣ | ▫ | ▫ | \n",
            "----------------------------\n",
            "Now AI is placing ships on the board...\n",
            "This cell is out of field! Try again.\n",
            "This cell is out of field! Try again.\n",
            "This cell is out of field! Try again.\n",
            "This cell is out of field! Try again.\n",
            "This cell is out of field! Try again.\n",
            "No free spots on the field! Try again.\n",
            "This is AI board. For test purposes only!\n",
            "----------------------------\n",
            "   | 1 | 2 | 3 | 4 | 5 | 6 |\n",
            "----------------------------\n",
            " 1 | ▣ | ▫ | ▫ | ▫ | ▫ | ▫ | \n",
            " 2 | ▣ | ▫ | ▣ | ▣ | ▣ | ▫ | \n",
            " 3 | ▫ | ▫ | ▫ | ▫ | ▫ | ▫ | \n",
            " 4 | ▫ | ▣ | ▫ | ▣ | ▫ | ▫ | \n",
            " 5 | ▫ | ▫ | ▫ | ▣ | ▫ | ▣ | \n",
            " 6 | ▣ | ▫ | ▫ | ▫ | ▫ | ▫ | \n",
            "----------------------------\n",
            "Do you want to start? [y/N]n\n"
          ]
        },
        {
          "output_type": "error",
          "ename": "TypeError",
          "evalue": "ignored",
          "traceback": [
            "\u001b[0;31m---------------------------------------------------------------------------\u001b[0m",
            "\u001b[0;31mTypeError\u001b[0m                                 Traceback (most recent call last)",
            "\u001b[0;32m<ipython-input-52-a5fb59b17002>\u001b[0m in \u001b[0;36m<module>\u001b[0;34m()\u001b[0m\n\u001b[1;32m      2\u001b[0m \u001b[0;32mif\u001b[0m \u001b[0m__name__\u001b[0m \u001b[0;34m==\u001b[0m \u001b[0;34m'__main__'\u001b[0m\u001b[0;34m:\u001b[0m\u001b[0;34m\u001b[0m\u001b[0;34m\u001b[0m\u001b[0m\n\u001b[1;32m      3\u001b[0m   \u001b[0mgame\u001b[0m \u001b[0;34m=\u001b[0m \u001b[0mGame\u001b[0m\u001b[0;34m(\u001b[0m\u001b[0;34m)\u001b[0m\u001b[0;34m\u001b[0m\u001b[0;34m\u001b[0m\u001b[0m\n\u001b[0;32m----> 4\u001b[0;31m   \u001b[0mgame\u001b[0m\u001b[0;34m.\u001b[0m\u001b[0mstart\u001b[0m\u001b[0;34m(\u001b[0m\u001b[0;34m)\u001b[0m\u001b[0;34m\u001b[0m\u001b[0;34m\u001b[0m\u001b[0m\n\u001b[0m",
            "\u001b[0;32m<ipython-input-50-f0dbbb984beb>\u001b[0m in \u001b[0;36mstart\u001b[0;34m(self)\u001b[0m\n\u001b[1;32m     95\u001b[0m     \u001b[0mself\u001b[0m\u001b[0;34m.\u001b[0m\u001b[0mai_board\u001b[0m\u001b[0;34m.\u001b[0m\u001b[0mshow_board\u001b[0m\u001b[0;34m(\u001b[0m\u001b[0;34m)\u001b[0m\u001b[0;34m\u001b[0m\u001b[0;34m\u001b[0m\u001b[0m\n\u001b[1;32m     96\u001b[0m \u001b[0;34m\u001b[0m\u001b[0m\n\u001b[0;32m---> 97\u001b[0;31m     \u001b[0mself\u001b[0m\u001b[0;34m.\u001b[0m\u001b[0mloop\u001b[0m\u001b[0;34m(\u001b[0m\u001b[0;34m)\u001b[0m\u001b[0;34m\u001b[0m\u001b[0;34m\u001b[0m\u001b[0m\n\u001b[0m",
            "\u001b[0;32m<ipython-input-50-f0dbbb984beb>\u001b[0m in \u001b[0;36mloop\u001b[0;34m(self)\u001b[0m\n\u001b[1;32m     80\u001b[0m       \u001b[0mself\u001b[0m\u001b[0;34m.\u001b[0m\u001b[0muser\u001b[0m\u001b[0;34m.\u001b[0m\u001b[0mmove\u001b[0m\u001b[0;34m(\u001b[0m\u001b[0;34m)\u001b[0m\u001b[0;34m\u001b[0m\u001b[0;34m\u001b[0m\u001b[0m\n\u001b[1;32m     81\u001b[0m     \u001b[0;32melse\u001b[0m\u001b[0;34m:\u001b[0m\u001b[0;34m\u001b[0m\u001b[0;34m\u001b[0m\u001b[0m\n\u001b[0;32m---> 82\u001b[0;31m       \u001b[0mself\u001b[0m\u001b[0;34m.\u001b[0m\u001b[0mai\u001b[0m\u001b[0;34m.\u001b[0m\u001b[0mmove\u001b[0m\u001b[0;34m(\u001b[0m\u001b[0;34m)\u001b[0m\u001b[0;34m\u001b[0m\u001b[0;34m\u001b[0m\u001b[0m\n\u001b[0m\u001b[1;32m     83\u001b[0m \u001b[0;34m\u001b[0m\u001b[0m\n\u001b[1;32m     84\u001b[0m \u001b[0;34m\u001b[0m\u001b[0m\n",
            "\u001b[0;32m<ipython-input-46-8a7454b4b17a>\u001b[0m in \u001b[0;36mmove\u001b[0;34m(self)\u001b[0m\n\u001b[1;32m      8\u001b[0m \u001b[0;34m\u001b[0m\u001b[0m\n\u001b[1;32m      9\u001b[0m   \u001b[0;32mdef\u001b[0m \u001b[0mmove\u001b[0m\u001b[0;34m(\u001b[0m\u001b[0mself\u001b[0m\u001b[0;34m)\u001b[0m\u001b[0;34m:\u001b[0m\u001b[0;34m\u001b[0m\u001b[0;34m\u001b[0m\u001b[0m\n\u001b[0;32m---> 10\u001b[0;31m     \u001b[0mself\u001b[0m\u001b[0;34m.\u001b[0m\u001b[0mask\u001b[0m\u001b[0;34m(\u001b[0m\u001b[0;34m)\u001b[0m\u001b[0;34m\u001b[0m\u001b[0;34m\u001b[0m\u001b[0m\n\u001b[0m\u001b[1;32m     11\u001b[0m     \u001b[0mself\u001b[0m\u001b[0;34m.\u001b[0m\u001b[0menemy_field\u001b[0m\u001b[0;34m.\u001b[0m\u001b[0mshot\u001b[0m\u001b[0;34m(\u001b[0m\u001b[0;34m)\u001b[0m\u001b[0;34m\u001b[0m\u001b[0;34m\u001b[0m\u001b[0m\n\u001b[1;32m     12\u001b[0m \u001b[0;34m\u001b[0m\u001b[0m\n",
            "\u001b[0;32m<ipython-input-46-8a7454b4b17a>\u001b[0m in \u001b[0;36mask\u001b[0;34m(self)\u001b[0m\n\u001b[1;32m     13\u001b[0m \u001b[0;32mclass\u001b[0m \u001b[0mAI\u001b[0m\u001b[0;34m(\u001b[0m\u001b[0mPlayer\u001b[0m\u001b[0;34m)\u001b[0m\u001b[0;34m:\u001b[0m\u001b[0;34m\u001b[0m\u001b[0;34m\u001b[0m\u001b[0m\n\u001b[1;32m     14\u001b[0m   \u001b[0;32mdef\u001b[0m \u001b[0mask\u001b[0m\u001b[0;34m(\u001b[0m\u001b[0mself\u001b[0m\u001b[0;34m)\u001b[0m\u001b[0;34m:\u001b[0m\u001b[0;34m\u001b[0m\u001b[0;34m\u001b[0m\u001b[0m\n\u001b[0;32m---> 15\u001b[0;31m     \u001b[0mdot\u001b[0m \u001b[0;34m=\u001b[0m \u001b[0mDot\u001b[0m\u001b[0;34m(\u001b[0m\u001b[0;34m)\u001b[0m\u001b[0;34m\u001b[0m\u001b[0;34m\u001b[0m\u001b[0m\n\u001b[0m\u001b[1;32m     16\u001b[0m     \u001b[0;32mif\u001b[0m \u001b[0;36m1\u001b[0m \u001b[0;34m!=\u001b[0m \u001b[0;36m1\u001b[0m\u001b[0;34m:\u001b[0m \u001b[0;31m# if damaged ship(s) exist(s), continue to shoot at it(them)\u001b[0m\u001b[0;34m\u001b[0m\u001b[0;34m\u001b[0m\u001b[0m\n\u001b[1;32m     17\u001b[0m       \u001b[0;32mpass\u001b[0m\u001b[0;34m\u001b[0m\u001b[0;34m\u001b[0m\u001b[0m\n",
            "\u001b[0;31mTypeError\u001b[0m: __init__() missing 2 required positional arguments: 'x' and 'y'"
          ]
        }
      ]
    },
    {
      "cell_type": "code",
      "metadata": {
        "id": "p_Kn5-EPfBE4"
      },
      "source": [
        ""
      ],
      "execution_count": 36,
      "outputs": []
    }
  ]
}